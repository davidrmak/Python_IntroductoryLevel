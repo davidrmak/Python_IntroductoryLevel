{
 "cells": [
  {
   "cell_type": "markdown",
   "metadata": {},
   "source": [
    "# Lists & Loops"
   ]
  },
  {
   "cell_type": "code",
   "execution_count": null,
   "metadata": {},
   "outputs": [],
   "source": [
    "# Note there are 2 types of errors. Logic and syntax. Logic requires a rethinking of approach."
   ]
  },
  {
   "cell_type": "markdown",
   "metadata": {},
   "source": [
    "## For Loops"
   ]
  },
  {
   "cell_type": "code",
   "execution_count": 2,
   "metadata": {},
   "outputs": [
    {
     "name": "stdout",
     "output_type": "stream",
     "text": [
      "0\n",
      "1\n",
      "2\n",
      "3\n"
     ]
    }
   ],
   "source": [
    "for tempvariable in range(4): # for ? in (3) means do ? 3x. Note the type has to be a range\n",
    "    print(tempvariable) # for an undefined variable, starts at 0. Increments up by 1 each iteration."
   ]
  },
  {
   "cell_type": "code",
   "execution_count": 7,
   "metadata": {},
   "outputs": [],
   "source": [
    "# Example: discounting a list"
   ]
  },
  {
   "cell_type": "code",
   "execution_count": 6,
   "metadata": {},
   "outputs": [
    {
     "name": "stdout",
     "output_type": "stream",
     "text": [
      "4\n",
      "[20.988, 41.004000000000005, 405.288, 5.418]\n"
     ]
    }
   ],
   "source": [
    "floatNos = ['23.32', '45.56', '450.32', '6.02']\n",
    "discountPercent = 10\n",
    "print(len(floatNos))\n",
    "for number in range(len(floatNos)): # temp variable enables to go through each and every value in the list.\n",
    "    floatNos[number] = float(floatNos[number]) * ((100 - discountPercent) / 100)\n",
    "print(floatNos)"
   ]
  },
  {
   "cell_type": "markdown",
   "metadata": {},
   "source": [
    "## Lists"
   ]
  },
  {
   "cell_type": "code",
   "execution_count": 11,
   "metadata": {},
   "outputs": [
    {
     "name": "stdout",
     "output_type": "stream",
     "text": [
      "1\n",
      "2\n",
      "3\n"
     ]
    }
   ],
   "source": [
    "testlist = [1,2,3]\n",
    "for temp in testlist: # temp is a local variable. Only exists here. Increases by one each time\n",
    "    print(temp)"
   ]
  },
  {
   "cell_type": "code",
   "execution_count": 12,
   "metadata": {},
   "outputs": [
    {
     "name": "stdout",
     "output_type": "stream",
     "text": [
      "[1, 'inserted', 2, 3]\n",
      "1\n",
      "inserted\n",
      "2\n",
      "3\n"
     ]
    }
   ],
   "source": [
    "testlist.insert(1,'inserted')\n",
    "print(testlist)\n",
    "\n",
    "for temp2 in range(len(testlist)):\n",
    "    print(testlist[temp2])"
   ]
  },
  {
   "cell_type": "code",
   "execution_count": 16,
   "metadata": {},
   "outputs": [
    {
     "name": "stdout",
     "output_type": "stream",
     "text": [
      "3\n",
      "4\n",
      "5\n",
      "6\n",
      "7\n"
     ]
    }
   ],
   "source": [
    "for temp3 in range(3, 8):\n",
    "    print(temp3) # adjustments can be made to the local variable and incrementing"
   ]
  },
  {
   "cell_type": "code",
   "execution_count": 18,
   "metadata": {},
   "outputs": [
    {
     "name": "stdout",
     "output_type": "stream",
     "text": [
      "4\n",
      "9\n",
      "14\n",
      "19\n",
      "24\n",
      "29\n",
      "34\n",
      "39\n",
      "44\n",
      "49\n",
      "54\n",
      "59\n"
     ]
    }
   ],
   "source": [
    "for temp4 in range(4, 60, 5):\n",
    "    print(temp4)"
   ]
  },
  {
   "cell_type": "code",
   "execution_count": 1,
   "metadata": {},
   "outputs": [],
   "source": [
    "# Example: palindrome test"
   ]
  },
  {
   "cell_type": "code",
   "execution_count": 13,
   "metadata": {},
   "outputs": [
    {
     "name": "stdout",
     "output_type": "stream",
     "text": [
      "What is your word to test: tut\n",
      "Your word is a palindrome\n"
     ]
    }
   ],
   "source": [
    "word = input('What is your word to test: ')\n",
    "wordInverse = word[::-1]\n",
    "\n",
    "if word == wordInverse:\n",
    "    print('Your word is a palindrome')\n",
    "else:\n",
    "    print('Your word is not a palindrome')"
   ]
  },
  {
   "cell_type": "code",
   "execution_count": 7,
   "metadata": {},
   "outputs": [],
   "source": [
    "# Example: building class list & random pupil selector"
   ]
  },
  {
   "cell_type": "code",
   "execution_count": 8,
   "metadata": {},
   "outputs": [
    {
     "name": "stdout",
     "output_type": "stream",
     "text": [
      "Number of pupils in class:3\n",
      "Enter name:Mark\n",
      "Enter name:Josh\n",
      "Enter name:Fred\n",
      "['Mark', 'Josh', 'Fred']\n",
      "The pupil chosen is Mark\n",
      "['Josh', 'Fred']\n",
      "['Mark']\n"
     ]
    }
   ],
   "source": [
    "userList = []\n",
    "pickedList = []\n",
    "userFrequency = int(input('Number of pupils in class:'))\n",
    "\n",
    "for temp in range(0, userFrequency):\n",
    "    userInput = str(input('Enter name:'))\n",
    "    userList.append(userInput)\n",
    "    \n",
    "print(userList)\n",
    "\n",
    "import random\n",
    "pickedPupil = random.randint(0,userFrequency)\n",
    "print('The pupil chosen is',userList[pickedPupil])\n",
    "pickedList.append(userList[pickedPupil])\n",
    "userList.remove(userList[pickedPupil])\n",
    "\n",
    "print(userList)\n",
    "print(pickedList)"
   ]
  },
  {
   "cell_type": "code",
   "execution_count": 81,
   "metadata": {},
   "outputs": [],
   "source": [
    "# Example: removing duplicates through iteration"
   ]
  },
  {
   "cell_type": "code",
   "execution_count": 20,
   "metadata": {},
   "outputs": [
    {
     "name": "stdout",
     "output_type": "stream",
     "text": [
      "[1, 2, 2, 2, 2, 3, 3, 3, 3, 4, 4, 4, 4, 4, 4, 4]\n",
      "[1, 2, 3, 4]\n"
     ]
    }
   ],
   "source": [
    "listDuplicates = [1,2,2,2,2,3,3,3,3,4,4,4,4,4,4,4]\n",
    "listDuplicates.sort\n",
    "listSingles = []\n",
    "\n",
    "for temp in range(len(listDuplicates)):\n",
    "    if listSingles.count(listDuplicates[temp]) == 0:\n",
    "        listSingles.append(listDuplicates[temp])\n",
    "    else:\n",
    "        pass # note pass can be used if want to do nothing in an if function\n",
    "\n",
    "print(listDuplicates)        \n",
    "print(listSingles)"
   ]
  },
  {
   "cell_type": "markdown",
   "metadata": {},
   "source": [
    "## While Loops"
   ]
  },
  {
   "cell_type": "code",
   "execution_count": 105,
   "metadata": {},
   "outputs": [],
   "source": [
    "# if functions just do once. While loops continue whilst the condition is still met."
   ]
  },
  {
   "cell_type": "code",
   "execution_count": 16,
   "metadata": {},
   "outputs": [],
   "source": [
    "# Example: inquisitive child"
   ]
  },
  {
   "cell_type": "code",
   "execution_count": 21,
   "metadata": {},
   "outputs": [
    {
     "name": "stdout",
     "output_type": "stream",
     "text": [
      "Why?\n",
      "Because.\n",
      "Oh okay\n"
     ]
    }
   ],
   "source": [
    "response = ''\n",
    "attempt = 0\n",
    "\n",
    "while response != 'Because.' and attempt < 3:\n",
    "        response = input('Why?\\n')\n",
    "\n",
    "        attempt = attempt + 1\n",
    "        \n",
    "print('Oh okay')"
   ]
  },
  {
   "cell_type": "code",
   "execution_count": 15,
   "metadata": {},
   "outputs": [],
   "source": [
    "# Example: inputting a password"
   ]
  },
  {
   "cell_type": "code",
   "execution_count": 4,
   "metadata": {},
   "outputs": [
    {
     "name": "stdout",
     "output_type": "stream",
     "text": [
      "Enter password: jeff\n",
      "1\n",
      "Incorrect, please try again: CAPS123abc\n",
      "Correct password\n"
     ]
    }
   ],
   "source": [
    "attempt = 1 # set to 1 given first attempt\n",
    "password = input('Enter password: ')\n",
    "while attempt < 3:\n",
    "    if password != 'CAPS123abc':\n",
    "        print(attempt) # This is a good way to prevent errors\n",
    "        password = input('Incorrect, please try again: ')\n",
    "        attempt = attempt + 1\n",
    "        if attempt >= 3:\n",
    "            print('Account locked')\n",
    "        else:\n",
    "            pass\n",
    "    else:\n",
    "        print('Correct password') \n",
    "        attempt = 3 # need this to stop loop"
   ]
  },
  {
   "cell_type": "code",
   "execution_count": 5,
   "metadata": {},
   "outputs": [],
   "source": [
    "# Example: random number game"
   ]
  },
  {
   "cell_type": "code",
   "execution_count": 1,
   "metadata": {},
   "outputs": [
    {
     "name": "stdout",
     "output_type": "stream",
     "text": [
      "18\n",
      "What do you think is the number?: 5\n",
      "1\n",
      "2\n",
      "Incorrect, 2 guesses left.\n",
      "To help you, your guess is too low\n",
      "What do you think is the number?: 7\n",
      "2\n",
      "1\n",
      "Incorrect, 1 guesses left.\n",
      "To help you, your guess is too low\n",
      "What do you think is the number?: 10\n",
      "Game over, you lose\n"
     ]
    }
   ],
   "source": [
    "import random\n",
    "answer = random.randint(1,20)\n",
    "\n",
    "attempt = 1\n",
    "max = 3\n",
    "\n",
    "print(answer)\n",
    "\n",
    "userGuess = int(input('What do you think is the number?: '))\n",
    "\n",
    "if userGuess > 20 or userGuess < 0:\n",
    "    print('Guess outside of range, try again')\n",
    "    userGuess = int(input('What do you think is the number?: '))\n",
    "\n",
    "while attempt < 3:\n",
    "    if userGuess != answer:\n",
    "        remaining = max - attempt\n",
    "        print(attempt)\n",
    "        print(remaining)\n",
    "        attempt += 1 # a more concise notation for incrementing by 1\n",
    "        print('Incorrect,',remaining,'guesses left.')\n",
    "        if userGuess > answer:\n",
    "            print('As a clue, your guess is too high')\n",
    "        else:\n",
    "            print('To help you, your guess is too low')\n",
    "        userGuess = int(input('What do you think is the number?: '))\n",
    "    else:\n",
    "        print('Correct, lucky you!')\n",
    "        attempt = 3\n",
    "\n",
    "else:\n",
    "    if userGuess != answer:\n",
    "        print('Game over, you lose')\n",
    "    else:\n",
    "        print('Well done')"
   ]
  },
  {
   "cell_type": "code",
   "execution_count": 22,
   "metadata": {},
   "outputs": [],
   "source": [
    "# Example: email validation"
   ]
  },
  {
   "cell_type": "code",
   "execution_count": 2,
   "metadata": {},
   "outputs": [
    {
     "name": "stdout",
     "output_type": "stream",
     "text": [
      "Enter email:test.com@.co.uk\n",
      "1\n",
      "@ count requirement met\n",
      "3\n",
      ". count requirement not met\n",
      "domain requirement met\n",
      "@ order requirement not met\n",
      "domain order requirement met\n",
      "8\n",
      "length requirement met\n"
     ]
    }
   ],
   "source": [
    "userEmail = input('Enter email:')\n",
    "\n",
    "print(userEmail.count('@'))\n",
    "if userEmail.count('@') == 1:\n",
    "    print('@ count requirement met')\n",
    "else:\n",
    "    print('@ count requirement not met')\n",
    "\n",
    "print(userEmail.count('.'))\n",
    "if 1 <= userEmail.count('.') <= 2:\n",
    "    print('. count requirement met')\n",
    "else:\n",
    "    print('. count requirement not met')\n",
    "    \n",
    "if userEmail.count('.com') or userEmail.count('.co.uk') or userEmail.count('.org') == 1:\n",
    "    print('domain requirement met')\n",
    "else:\n",
    "    print('domain requirement not met')\n",
    "    \n",
    "if userEmail.find('@') < userEmail.find('.'):\n",
    "    print('@ order requirement met')\n",
    "else:\n",
    "    print('@ order requirement not met')\n",
    "    \n",
    "if userEmail.find('com') > userEmail.find('.') or userEmail.find('co.uk') > userEmail.find('.')or userEmail.find('org') > userEmail.find('.'):\n",
    "    print('domain order requirement met')\n",
    "else:\n",
    "    print('domain order requirement not met')\n",
    "\n",
    "print(userEmail.find('@'))\n",
    "if userEmail.find('@') >= 3:\n",
    "    print('length requirement met')\n",
    "else:\n",
    "    print('length requirement not met')"
   ]
  }
 ],
 "metadata": {
  "kernelspec": {
   "display_name": "Python 3",
   "language": "python",
   "name": "python3"
  },
  "language_info": {
   "codemirror_mode": {
    "name": "ipython",
    "version": 3
   },
   "file_extension": ".py",
   "mimetype": "text/x-python",
   "name": "python",
   "nbconvert_exporter": "python",
   "pygments_lexer": "ipython3",
   "version": "3.7.4"
  }
 },
 "nbformat": 4,
 "nbformat_minor": 2
}
