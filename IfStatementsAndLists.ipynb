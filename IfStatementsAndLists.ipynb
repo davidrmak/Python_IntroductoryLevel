{
 "cells": [
  {
   "cell_type": "markdown",
   "metadata": {},
   "source": [
    "# If Statements & Lists"
   ]
  },
  {
   "cell_type": "markdown",
   "metadata": {},
   "source": [
    "## Computer Logic"
   ]
  },
  {
   "cell_type": "code",
   "execution_count": 1,
   "metadata": {},
   "outputs": [
    {
     "data": {
      "text/plain": [
       "True"
      ]
     },
     "execution_count": 1,
     "metadata": {},
     "output_type": "execute_result"
    }
   ],
   "source": [
    "x = 3\n",
    "bool(x) # Essentially, is there something in this variable? 0 is false. Works w strings too."
   ]
  },
  {
   "cell_type": "code",
   "execution_count": 3,
   "metadata": {},
   "outputs": [
    {
     "data": {
      "text/plain": [
       "True"
      ]
     },
     "execution_count": 3,
     "metadata": {},
     "output_type": "execute_result"
    }
   ],
   "source": [
    "3 == 3 # This is the essence of the if function. Other examples below."
   ]
  },
  {
   "cell_type": "code",
   "execution_count": 4,
   "metadata": {},
   "outputs": [
    {
     "name": "stdout",
     "output_type": "stream",
     "text": [
      "Enter favourite vegetable:tomato\n",
      "Enter favourite dish for vegetable:soup\n"
     ]
    },
    {
     "data": {
      "text/plain": [
       "True"
      ]
     },
     "execution_count": 4,
     "metadata": {},
     "output_type": "execute_result"
    }
   ],
   "source": [
    "favouriteVegetable = 'courgette'\n",
    "userVegetable = input('Enter favourite vegetable:')\n",
    "favouriteDish = 'soup'\n",
    "userDish = input('Enter favourite dish for vegetable:')\n",
    "favouriteVegetable == userVegetable or favouriteDish == userDish"
   ]
  },
  {
   "cell_type": "code",
   "execution_count": 5,
   "metadata": {},
   "outputs": [
    {
     "name": "stdout",
     "output_type": "stream",
     "text": [
      "How many of this veg are needed:6\n"
     ]
    },
    {
     "data": {
      "text/plain": [
       "False"
      ]
     },
     "execution_count": 5,
     "metadata": {},
     "output_type": "execute_result"
    }
   ],
   "source": [
    "recipe = 5\n",
    "userRecipe = input('How many of this veg are needed:')\n",
    "favouriteVegetable == userVegetable and favouriteDish == userDish and recipe == userRecipe"
   ]
  },
  {
   "cell_type": "code",
   "execution_count": 15,
   "metadata": {},
   "outputs": [],
   "source": [
    "# Example"
   ]
  },
  {
   "cell_type": "code",
   "execution_count": 6,
   "metadata": {},
   "outputs": [
    {
     "data": {
      "text/plain": [
       "True"
      ]
     },
     "execution_count": 6,
     "metadata": {},
     "output_type": "execute_result"
    }
   ],
   "source": [
    "comp1 = 'Fred' == 'Fred'\n",
    "comp1"
   ]
  },
  {
   "cell_type": "markdown",
   "metadata": {},
   "source": [
    "## if & elif statements"
   ]
  },
  {
   "cell_type": "code",
   "execution_count": 9,
   "metadata": {},
   "outputs": [],
   "source": [
    "# The long-hand purpose of 'if' function is shown above\n",
    "# note a tab or four spaces is required for indent\n",
    "# an 'elif' function is essentially another (second) if, if first if is false\n",
    "# ASCII table. Represents values. Lower and upper case letters different."
   ]
  },
  {
   "cell_type": "code",
   "execution_count": 10,
   "metadata": {},
   "outputs": [],
   "source": [
    "# Example"
   ]
  },
  {
   "cell_type": "code",
   "execution_count": 13,
   "metadata": {},
   "outputs": [
    {
     "name": "stdout",
     "output_type": "stream",
     "text": [
      "Age:17\n",
      "You're too young to vote\n"
     ]
    }
   ],
   "source": [
    "age = int(input('Age:'))\n",
    "\n",
    "if not (age >= 18):\n",
    "    print(\"You're too young to vote\")\n",
    "else:\n",
    "    print('You can vote')"
   ]
  },
  {
   "cell_type": "code",
   "execution_count": 14,
   "metadata": {},
   "outputs": [
    {
     "name": "stdout",
     "output_type": "stream",
     "text": [
      "What came first noodles or pasta?noodles\n",
      "Correct\n"
     ]
    }
   ],
   "source": [
    "answer = 'noodles'\n",
    "userAnswer = input('What came first noodles or pasta?')\n",
    "str.lower(userAnswer)\n",
    "if answer == str.lower(userAnswer):\n",
    "    print('Correct')\n",
    "else:\n",
    "    print('Incorrect')"
   ]
  },
  {
   "cell_type": "code",
   "execution_count": 48,
   "metadata": {},
   "outputs": [],
   "source": [
    "# Note computer may jump out of command of code if something already outputted. \n",
    "# So dont define variables this way. ie with else, only one is executed."
   ]
  },
  {
   "cell_type": "code",
   "execution_count": null,
   "metadata": {},
   "outputs": [],
   "source": [
    "# Example"
   ]
  },
  {
   "cell_type": "code",
   "execution_count": 15,
   "metadata": {},
   "outputs": [
    {
     "name": "stdout",
     "output_type": "stream",
     "text": [
      "Enter marks:60\n",
      "B\n"
     ]
    }
   ],
   "source": [
    "grade = int(input('Enter marks:'))\n",
    "if (grade >= 40) and (grade < 50):\n",
    "    print('Pass')\n",
    "elif (grade >= 50) and (grade < 60):\n",
    "    print('C')\n",
    "elif (grade >= 60) and (grade < 70):\n",
    "    print('B')\n",
    "elif (grade >= 70) and (grade < 100):\n",
    "    print('A')\n",
    "elif (grade < 40) and (grade >= 0):\n",
    "    print('Fail')\n",
    "else: \n",
    "    print('Error, invalid mark')   "
   ]
  },
  {
   "cell_type": "code",
   "execution_count": 9,
   "metadata": {},
   "outputs": [],
   "source": [
    "# Example"
   ]
  },
  {
   "cell_type": "code",
   "execution_count": 16,
   "metadata": {},
   "outputs": [
    {
     "name": "stdout",
     "output_type": "stream",
     "text": [
      "Enter password:Spain\n",
      "Please make password longer\n"
     ]
    }
   ],
   "source": [
    "password = input('Enter password:')\n",
    "if len(password) >= 8:\n",
    "    print('Password is strong enough.')\n",
    "else:\n",
    "    print('Please make password longer')"
   ]
  },
  {
   "cell_type": "code",
   "execution_count": 13,
   "metadata": {},
   "outputs": [],
   "source": [
    "# Example"
   ]
  },
  {
   "cell_type": "code",
   "execution_count": 18,
   "metadata": {},
   "outputs": [
    {
     "name": "stdout",
     "output_type": "stream",
     "text": [
      "Please enter a % between 0 and 100: 79\n",
      "Valid percentage entered\n",
      "A Pass\n"
     ]
    }
   ],
   "source": [
    "percentage = int(input('Please enter a % between 0 and 100: '))\n",
    "if (percentage < 0) or (percentage > 100):\n",
    "    print('Invalid percentage')\n",
    "elif (percentage >= 0) and (percentage <= 100):\n",
    "    print('Valid percentage entered')\n",
    "    if (percentage >= 0) and (percentage < 50):\n",
    "        print('Fail')\n",
    "    elif (percentage >= 50) and (percentage < 60):\n",
    "        print('C pass')\n",
    "    elif (percentage >= 60) and (percentage < 70):\n",
    "        print('B pass')\n",
    "    else:\n",
    "        print('A Pass')"
   ]
  },
  {
   "cell_type": "code",
   "execution_count": 17,
   "metadata": {},
   "outputs": [],
   "source": [
    "# Example: nesting (an if statement inside another if statement)"
   ]
  },
  {
   "cell_type": "code",
   "execution_count": 19,
   "metadata": {},
   "outputs": [
    {
     "name": "stdout",
     "output_type": "stream",
     "text": [
      "Enter integer:6\n",
      "Inside range 1\n"
     ]
    }
   ],
   "source": [
    "test = int(input('Enter integer:'))\n",
    "if test >= 0 and test <= 20:\n",
    "    print('Inside range 1')\n",
    "    if test >= 1 and test <= 5:\n",
    "        print('Inside range 2')\n",
    "# note the nested if conditions are only tested if the first if statement is true"
   ]
  },
  {
   "cell_type": "markdown",
   "metadata": {},
   "source": [
    "# Lists"
   ]
  },
  {
   "cell_type": "code",
   "execution_count": 2,
   "metadata": {},
   "outputs": [],
   "source": [
    "# Denoted by [ ]. Made up of items."
   ]
  },
  {
   "cell_type": "code",
   "execution_count": 23,
   "metadata": {},
   "outputs": [
    {
     "name": "stdout",
     "output_type": "stream",
     "text": [
      "['234', '460346045']\n"
     ]
    }
   ],
   "source": [
    "numbers = ['2', '234', '460346045']\n",
    "print(numbers[1:3])"
   ]
  },
  {
   "cell_type": "code",
   "execution_count": 22,
   "metadata": {},
   "outputs": [
    {
     "name": "stdout",
     "output_type": "stream",
     "text": [
      "Help on method_descriptor:\n",
      "\n",
      "pop(self, index=-1, /)\n",
      "    Remove and return item at index (default last).\n",
      "    \n",
      "    Raises IndexError if list is empty or index is out of range.\n",
      "\n"
     ]
    }
   ],
   "source": [
    "help(list.pop)"
   ]
  },
  {
   "cell_type": "code",
   "execution_count": 26,
   "metadata": {},
   "outputs": [],
   "source": [
    "# Examples of list functions - dir(list)"
   ]
  },
  {
   "cell_type": "code",
   "execution_count": 24,
   "metadata": {},
   "outputs": [
    {
     "name": "stdout",
     "output_type": "stream",
     "text": [
      "['2', '234', '460346045', 'Hello!']\n"
     ]
    }
   ],
   "source": [
    "numbers.append('Hello!')\n",
    "print(numbers)"
   ]
  },
  {
   "cell_type": "code",
   "execution_count": 25,
   "metadata": {},
   "outputs": [
    {
     "name": "stdout",
     "output_type": "stream",
     "text": [
      "['234', '460346045', 'Hello!']\n"
     ]
    }
   ],
   "source": [
    "numbers.remove('2')\n",
    "print(numbers)"
   ]
  }
 ],
 "metadata": {
  "kernelspec": {
   "display_name": "Python 3",
   "language": "python",
   "name": "python3"
  },
  "language_info": {
   "codemirror_mode": {
    "name": "ipython",
    "version": 3
   },
   "file_extension": ".py",
   "mimetype": "text/x-python",
   "name": "python",
   "nbconvert_exporter": "python",
   "pygments_lexer": "ipython3",
   "version": "3.7.4"
  }
 },
 "nbformat": 4,
 "nbformat_minor": 2
}
